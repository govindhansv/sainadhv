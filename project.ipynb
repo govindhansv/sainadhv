{
 "cells": [
  {
   "cell_type": "code",
   "execution_count": 7,
   "id": "e7ecefa4",
   "metadata": {},
   "outputs": [
    {
     "name": "stdout",
     "output_type": "stream",
     "text": [
      "2.5\n",
      "2.5\n",
      "1.118033988749895\n"
     ]
    }
   ],
   "source": [
    "import numpy as np\n",
    "arr = np.array([1, 2, 3, 4])\n",
    "print(np.mean(arr))\n",
    "print(np.median(arr))\n",
    "print(np.std(arr))  "
   ]
  },
  {
   "cell_type": "code",
   "execution_count": 8,
   "id": "7400708a",
   "metadata": {},
   "outputs": [
    {
     "name": "stdout",
     "output_type": "stream",
     "text": [
      "5\n",
      "[57 87 89 60 26]\n",
      "[[20 14 15]\n",
      " [16 12 13]\n",
      " [18 18 19]]\n"
     ]
    }
   ],
   "source": [
    "x=np.random.randint(1,10)\n",
    "print(x)\n",
    "y=np.random.randint(0,100,size=5)\n",
    "print(y)\n",
    "z=np.random.randint(10,21,size=(3,3))\n",
    "print(z)    "
   ]
  },
  {
   "cell_type": "code",
   "execution_count": 9,
   "id": "76b97137",
   "metadata": {},
   "outputs": [
    {
     "name": "stdout",
     "output_type": "stream",
     "text": [
      "0.3115507760516044\n",
      "[0.6303879  0.48483243 0.4414857  0.07523241 0.82155533]\n",
      "[[0.53846674 0.3429155  0.90672509]\n",
      " [0.92501876 0.43937636 0.5726314 ]]\n"
     ]
    }
   ],
   "source": [
    "\n",
    "a=np.random.rand()\n",
    "print(a)\n",
    "b=np.random.rand(5)\n",
    "print(b)\n",
    "c=np.random.rand(2,3)\n",
    "print(c)"
   ]
  },
  {
   "cell_type": "code",
   "execution_count": 73,
   "id": "067e82ef",
   "metadata": {},
   "outputs": [
    {
     "name": "stdout",
     "output_type": "stream",
     "text": [
      "[2 5 3 6 0 4]\n"
     ]
    }
   ],
   "source": [
    "x=np.random.randint(10,size=6)\n",
    "print(x)"
   ]
  },
  {
   "cell_type": "code",
   "execution_count": 74,
   "id": "bdf54218",
   "metadata": {},
   "outputs": [],
   "source": [
    "import pandas as pd"
   ]
  },
  {
   "cell_type": "code",
   "execution_count": 76,
   "id": "02bfb9c5",
   "metadata": {},
   "outputs": [
    {
     "name": "stdout",
     "output_type": "stream",
     "text": [
      "0    10\n",
      "1    20\n",
      "2    49\n",
      "3     6\n",
      "4     8\n",
      "dtype: int64\n"
     ]
    }
   ],
   "source": [
    "s=pd.Series([10,20,49,6,8])\n",
    "print(s)"
   ]
  },
  {
   "cell_type": "code",
   "execution_count": 78,
   "id": "daefef47",
   "metadata": {},
   "outputs": [
    {
     "name": "stdout",
     "output_type": "stream",
     "text": [
      "      name  age\n",
      "0  raashid   12\n"
     ]
    }
   ],
   "source": [
    "n=input(\"enter name\")\n",
    "a=int(input(\"enter age\"))\n",
    "\n",
    "data={\"name\":[n],\"age\":[a]}\n",
    "df=pd.DataFrame(data)\n",
    "print(df)"
   ]
  },
  {
   "cell_type": "code",
   "execution_count": 80,
   "id": "83575b7f",
   "metadata": {},
   "outputs": [
    {
     "name": "stdout",
     "output_type": "stream",
     "text": [
      "      name  age\n",
      "0    alice   25\n",
      "1      bob   30\n",
      "2  charlie   35\n",
      "      name  age\n",
      "1      bob   30\n",
      "2  charlie   35\n",
      "<class 'pandas.core.frame.DataFrame'>\n",
      "RangeIndex: 3 entries, 0 to 2\n",
      "Data columns (total 2 columns):\n",
      " #   Column  Non-Null Count  Dtype \n",
      "---  ------  --------------  ----- \n",
      " 0   name    3 non-null      object\n",
      " 1   age     3 non-null      int64 \n",
      "dtypes: int64(1), object(1)\n",
      "memory usage: 180.0+ bytes\n"
     ]
    }
   ],
   "source": [
    "data ={\n",
    "    \"name\":[\"alice\",\"bob\",\"charlie\"],\n",
    "    \"age\":[25,30,35]\n",
    "}\n",
    "df=pd.DataFrame(data)\n",
    "print(df.head())\n",
    "print(df.tail(2))\n",
    "df.info()"
   ]
  }
 ],
 "metadata": {
  "kernelspec": {
   "display_name": "Python 3",
   "language": "python",
   "name": "python3"
  },
  "language_info": {
   "codemirror_mode": {
    "name": "ipython",
    "version": 3
   },
   "file_extension": ".py",
   "mimetype": "text/x-python",
   "name": "python",
   "nbconvert_exporter": "python",
   "pygments_lexer": "ipython3",
   "version": "3.13.7"
  }
 },
 "nbformat": 4,
 "nbformat_minor": 5
}
